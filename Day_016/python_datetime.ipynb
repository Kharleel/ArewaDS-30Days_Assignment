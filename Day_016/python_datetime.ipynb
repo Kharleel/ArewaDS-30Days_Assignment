{
 "cells": [
  {
   "cell_type": "markdown",
   "metadata": {},
   "source": [
    "## Day 16: 30 days of Python programming"
   ]
  },
  {
   "cell_type": "code",
   "execution_count": null,
   "metadata": {},
   "outputs": [],
   "source": [
    "from datetime import datetime,date,time,timedelta\n",
    "# Get the current day, month, year, hour, minute and timestamp from datetime module\n",
    "now = datetime.now()\n",
    "print(now) \n",
    "day = now.day\n",
    "month = now.month\n",
    "year = now.year\n",
    "hour = now.hour\n",
    "minute = now.minute\n",
    "timestamp = now.timestamp() #2023-12-11 10:38:24.563048"
   ]
  },
  {
   "cell_type": "code",
   "execution_count": null,
   "metadata": {},
   "outputs": [],
   "source": [
    "# Format the current date using this format: \"%m/%d/%Y, %H:%M:%S\")\n",
    "d = now.strftime(\"%m/%d/%Y, %H:%M:%S\")\n",
    "print(d) #12/11/2023, 10:38:24"
   ]
  },
  {
   "cell_type": "code",
   "execution_count": null,
   "metadata": {},
   "outputs": [],
   "source": [
    "# Today is 5 December, 2019. Change this time string to time.\n",
    "date_string = \"5 December, 2019\"\n",
    "print(\"date_string =\", date_string)\n",
    "date_object = datetime.strptime(date_string, \"%d %B, %Y\")\n",
    "print(\"date_object =\", date_object) #2019-12-05 00:00:00"
   ]
  },
  {
   "cell_type": "code",
   "execution_count": null,
   "metadata": {},
   "outputs": [],
   "source": [
    "# Calculate the time difference between now and new year.\n",
    "from datetime import datetime\n",
    "\n",
    "# Get the current date and time\n",
    "current_datetime = datetime.now()\n",
    "\n",
    "# Get the upcoming New Year\n",
    "new_year = datetime(current_datetime.year + 1, 1, 1)\n",
    "\n",
    "# Calculate the time difference\n",
    "time_difference = new_year - current_datetime\n",
    "\n",
    "print(\"Time Difference until New Year:\")\n",
    "print(time_difference)"
   ]
  },
  {
   "cell_type": "code",
   "execution_count": null,
   "metadata": {},
   "outputs": [],
   "source": [
    "# Calculate the time difference between 1 January 1970 and now.\n",
    "from datetime import datetime\n",
    "\n",
    "# Get the current date and time\n",
    "current_datetime = datetime.now()\n",
    "\n",
    "# Define the Unix epoch (January 1, 1970)\n",
    "epoch = datetime(1970, 1, 1)\n",
    "\n",
    "# Calculate the time difference\n",
    "time_difference = current_datetime - epoch\n",
    "\n",
    "print(\"Time Difference since Unix Epoch:\")\n",
    "print(time_difference)"
   ]
  },
  {
   "cell_type": "markdown",
   "metadata": {},
   "source": [
    "##### Think, what can you use the datetime module for? Examples:\n",
    "###### -Time series analysis\n",
    "###### -To get a timestamp of any activities in an application\n",
    "###### -Adding posts on a blog\n",
    "\n",
    "\"\" Time Series Analysis: provides methods for parsing and formatting timestamps, calculating time differences, and performing arithmetic operations on time series data.\n",
    "\n",
    "Timestamping Activities: useful for tracking events, logging activities, or measuring the duration of specific operations.\n",
    "\n",
    "Scheduling and Timers: check the current time, compare it with a scheduled time, and trigger actions accordingly.\n",
    "\n",
    "File Timestamps: retrieving the creation or modification time of a file, and manipulating or comparing these timestamps.\n",
    "\n",
    "Date Arithmetic: add or subtract time intervals, calculate time differences, and perform various calculations involving dates and times.\n",
    "\n",
    "Event Scheduling: set up recurring events, handle time-based triggers, and manage event-driven workflows.\n",
    "\n",
    "Data Recording and Logging: enables accurate time tracking and helps in organizing and analyzing recorded data based on time.\"\""
   ]
  }
 ],
 "metadata": {
  "kernelspec": {
   "display_name": ".venv",
   "language": "python",
   "name": "python3"
  },
  "language_info": {
   "codemirror_mode": {
    "name": "ipython",
    "version": 3
   },
   "file_extension": ".py",
   "mimetype": "text/x-python",
   "name": "python",
   "nbconvert_exporter": "python",
   "pygments_lexer": "ipython3",
   "version": "3.12.0"
  }
 },
 "nbformat": 4,
 "nbformat_minor": 2
}
