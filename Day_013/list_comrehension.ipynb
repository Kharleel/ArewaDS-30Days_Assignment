{
 "cells": [
  {
   "cell_type": "markdown",
   "metadata": {},
   "source": [
    "# Exercise Day 13: 30 days of Python programming"
   ]
  },
  {
   "cell_type": "code",
   "execution_count": null,
   "metadata": {},
   "outputs": [],
   "source": [
    "# Filter only negative and zero in the list using list comprehension\n",
    "numbers = [-4, -3, -2, -1, 0, 2, 4, 6]\n",
    "\n",
    "filtered_numbers = [num for num in numbers if num <= 0]\n",
    "\n",
    "print(filtered_numbers)\n"
   ]
  },
  {
   "cell_type": "code",
   "execution_count": null,
   "metadata": {},
   "outputs": [],
   "source": [
    "# Flatten the following list of lists of lists to a one dimensional list :\n",
    "list_of_lists = [[[1,2,3]],[[4,5,6]],[[7,8,9]]]\n",
    "# output = [1,2,3,4,5,6,7,8,9]\n",
    "\n",
    "\n",
    "list_of_lists = [[[1, 2, 3]], [[4, 5, 6]], [[7, 8, 9]]]\n",
    "\n",
    "flattened_list = [num for sublist in list_of_lists for subsublist in sublist for num in subsublist]\n",
    "\n",
    "print(flattened_list)\n"
   ]
  },
  {
   "cell_type": "code",
   "execution_count": null,
   "metadata": {},
   "outputs": [],
   "source": [
    "# Using list comprehension create the following list of tuples:\n",
    "\n",
    "[(0, 1, 0, 0, 0, 0, 0),\n",
    "(1, 1, 1, 1, 1, 1, 1),\n",
    "(2, 1, 2, 4, 8, 16, 32),\n",
    "(3, 1, 3, 9, 27, 81, 243),\n",
    "(4, 1, 4, 16, 64, 256, 1024),\n",
    "(5, 1, 5, 25, 125, 625, 3125),\n",
    "(6, 1, 6, 36, 216, 1296, 7776),\n",
    "(7, 1, 7, 49, 343, 2401, 16807),\n",
    "(8, 1, 8, 64, 512, 4096, 32768),\n",
    "(9, 1, 9, 81, 729, 6561, 59049),\n",
    "(10, 1, 10, 100, 1000, 10000, 100000)]\n",
    "\n",
    "tpl_list = [(i**1,i**0,i**1,i**2,i**3,i**4,i**5) for i in range(11)] \n",
    "print(tpl_list)\n"
   ]
  },
  {
   "cell_type": "code",
   "execution_count": null,
   "metadata": {},
   "outputs": [],
   "source": [
    "# Flatten the following list to a new list:\n",
    "\n",
    "countries = [[('Finland', 'Helsinki')], [('Sweden', 'Stockholm')], [('Norway', 'Oslo')]]\n",
    "# output:\n",
    "[['FINLAND','FIN', 'HELSINKI'], ['SWEDEN', 'SWE', 'STOCKHOLM'], ['NORWAY', 'NOR', 'OSLO']]\n",
    "\n",
    "# tpl -> row -> list\n",
    "[[tpl[0].upper(),tpl[0][:3].upper(), tpl[1].upper()] for row in countries for tpl in row]"
   ]
  },
  {
   "cell_type": "code",
   "execution_count": null,
   "metadata": {},
   "outputs": [],
   "source": [
    "# Change the following list to a list of dictionaries:\n",
    "\n",
    "countries = [[('Finland', 'Helsinki')], [('Sweden', 'Stockholm')], [('Norway', 'Oslo')]]\n",
    "# output:\n",
    "[{'country': 'FINLAND', 'city': 'HELSINKI'},\n",
    "{'country': 'SWEDEN', 'city': 'STOCKHOLM'},\n",
    "{'country': 'NORWAY', 'city': 'OSLO'}]\n",
    "\n",
    "[{'country':tpl[0],'city':tpl[1]} for row in countries for tpl in row]"
   ]
  },
  {
   "cell_type": "code",
   "execution_count": null,
   "metadata": {},
   "outputs": [],
   "source": [
    "# Change the following list of lists to a list of concatenated strings:\n",
    "\n",
    "names = [[('Asabeneh', 'Yetayeh')], [('David', 'Smith')], [('Donald', 'Trump')], [('Bill', 'Gates')]]\n",
    "\n",
    "# output\n",
    "['Asabeneh Yetaeyeh', 'David Smith', 'Donald Trump', 'Bill Gates']\n",
    "[(name[0] + \" \" + name[1]) for row in names for name in row]"
   ]
  },
  {
   "cell_type": "code",
   "execution_count": null,
   "metadata": {},
   "outputs": [],
   "source": [
    "# Write a lambda function which can solve a slope or y-intercept of linear functions.\n",
    "\n",
    "# y = m * x + c\n",
    "# chose y-intercept\n",
    "\n",
    "y_i_c = lambda m,c,x:c  # when x is zero, value of y\n",
    "y_i_c(2,4,2)"
   ]
  }
 ],
 "metadata": {
  "kernelspec": {
   "display_name": ".venv",
   "language": "python",
   "name": "python3"
  },
  "language_info": {
   "codemirror_mode": {
    "name": "ipython",
    "version": 3
   },
   "file_extension": ".py",
   "mimetype": "text/x-python",
   "name": "python",
   "nbconvert_exporter": "python",
   "pygments_lexer": "ipython3",
   "version": "3.12.0"
  }
 },
 "nbformat": 4,
 "nbformat_minor": 2
}
