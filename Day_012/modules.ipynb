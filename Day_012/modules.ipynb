{
 "cells": [
  {
   "cell_type": "markdown",
   "metadata": {},
   "source": [
    "## Exercise Day 12: 30 days of python programming"
   ]
  },
  {
   "cell_type": "code",
   "execution_count": null,
   "metadata": {},
   "outputs": [],
   "source": [
    "#  Writ a function which generates a six digit/character random_user_id.\n",
    "import random\n",
    "import string\n",
    "\n",
    "def generate_random_user_id():\n",
    "    characters = string.ascii_letters + string.digits\n",
    "    user_id = ''.join(random.choices(characters, k=6))\n",
    "    return user_id\n",
    "\n",
    "print(generate_random_user_id())  # Output: something like 'e3R9D7'\n",
    "print(generate_random_user_id())  # Output: something like 'x8Y2aF'"
   ]
  },
  {
   "cell_type": "code",
   "execution_count": null,
   "metadata": {},
   "outputs": [],
   "source": [
    "# Modify the previous task. Declare a function named user_id_gen_by_user. It doesn’t take any parameters but it takes two inputs using input(). One of the inputs is the number of characters and the second input is the number of IDs which are supposed to be generated.\n",
    "# print(user_id_gen_by_user()) # user input: 5 5\n",
    "#output:\n",
    "#kcsy2\n",
    "#SMFYb\n",
    "#bWmeq\n",
    "#ZXOYh\n",
    "#2Rgxf\n",
    "   \n",
    "# print(user_id_gen_by_user()) # 16 5\n",
    "#1GCSgPLMaBAVQZ26\n",
    "#YD7eFwNQKNs7qXaT\n",
    "#ycArC5yrRupyG00S\n",
    "#UbGxOFI7UXSWAyKN\n",
    "#dIV0SSUTgAdKwStr\n",
    "\n",
    "def user_id_gen_by_user():\n",
    "    try:\n",
    "        # Get user input for number of characters and number of IDs\n",
    "        char_count, id_count = map(int, input(\"Enter number of characters and number of IDs (separated by space): \").split())\n",
    "        \n",
    "        # Define the characters to choose from for the random ID\n",
    "        characters = string.ascii_letters + string.digits  # letters (uppercase and lowercase) and digits\n",
    "        \n",
    "        # Generate user-specified number of IDs each with specified number of characters\n",
    "        for _ in range(id_count):\n",
    "            user_id = ''.join(random.choices(characters, k=char_count))\n",
    "            print(user_id)\n",
    "    except ValueError:\n",
    "        print(\"Please enter valid numbers for characters and IDs.\")"
   ]
  },
  {
   "cell_type": "code",
   "execution_count": null,
   "metadata": {},
   "outputs": [],
   "source": [
    "# Write a function list_of_rgb_colors which returns any number of RGB colors in an array.\n",
    "\n",
    "def list_of_rgb_colors(num_colors):\n",
    "    colors = []\n",
    "    for _ in range(num_colors):\n",
    "        # Generate random values for RGB components (0-255)\n",
    "        red = random.randint(0, 255)\n",
    "        green = random.randint(0, 255)\n",
    "        blue = random.randint(0, 255)\n",
    "        \n",
    "        # Append the RGB tuple to the colors list\n",
    "        colors.append((red, green, blue))\n",
    "    \n",
    "    return colors\n",
    "\n",
    "# Generate a list of 5 RGB colors\n",
    "num_of_colors = 5\n",
    "rgb_colors = list_of_rgb_colors(num_of_colors)\n",
    "print(rgb_colors)\n"
   ]
  },
  {
   "cell_type": "code",
   "execution_count": null,
   "metadata": {},
   "outputs": [],
   "source": [
    "# Write a function generate_colors which can generate any number of hexa or rgb colors.\n",
    "# generate_colors('hexa', 3) # ['#a3e12f','#03ed55','#eb3d2b'] \n",
    "# generate_colors('hexa', 1) # ['#b334ef']\n",
    "# generate_colors('rgb', 3)  # ['rgb(5, 55, 175','rgb(50, 105, 100','rgb(15, 26, 80'] \n",
    "# generate_colors('rgb', 1)  # ['rgb(33,79, 176)']\n",
    "\n",
    "\n",
    "def rgb_color_gen():\n",
    "    a = ','.join(str(random.randint(0,255)) for i in range(3))\n",
    "    return 'rgb('+ a + ')'\n",
    "print(rgb_color_gen())"
   ]
  },
  {
   "cell_type": "markdown",
   "metadata": {},
   "source": [
    "#### Exercises: Level 2"
   ]
  },
  {
   "cell_type": "code",
   "execution_count": null,
   "metadata": {},
   "outputs": [],
   "source": [
    "# Write a function list_of_hexa_colors which returns any number of hexadecimal colors in an array (six hexadecimal numbers written after #. Hexadecimal numeral system is made out of 16 symbols, 0-9 and first 6 letters of the alphabet, a-f. Check the task 6 for output examples).\n",
    "import random\n",
    "\n",
    "def list_of_hexa_colors(n):\n",
    "  \"\"\"\n",
    "  This function generates a list of n random hexadecimal colors.\n",
    "\n",
    "  Args:\n",
    "    n: The number of colors to generate.\n",
    "\n",
    "  Returns:\n",
    "    A list of n hexadecimal colors.\n",
    "  \"\"\"\n",
    "\n",
    "  colors = []\n",
    "  for _ in range(n):\n",
    "    color = \"#\"\n",
    "    for _ in range(6):\n",
    "      color += random.choice(\"0123456789abcdef\")\n",
    "    colors.append(color)\n",
    "  return colors\n",
    "\n",
    "# Example usage\n",
    "print(list_of_hexa_colors(5))\n"
   ]
  },
  {
   "cell_type": "code",
   "execution_count": null,
   "metadata": {},
   "outputs": [],
   "source": [
    "# Write a function list_of_rgb_colors which returns any number of RGB colors in an array.\n",
    "import random\n",
    "\n",
    "def list_of_rgb_colors(n):\n",
    "  \"\"\"\n",
    "  This function generates a list of n random RGB colors.\n",
    "\n",
    "  Args:\n",
    "    n: The number of colors to generate.\n",
    "\n",
    "  Returns:\n",
    "    A list of n RGB colors.\n",
    "  \"\"\"\n",
    "\n",
    "  colors = []\n",
    "  for _ in range(n):\n",
    "    colors.append((random.randint(0, 255), random.randint(0, 255), random.randint(0, 255)))\n",
    "  return colors\n",
    "\n",
    "# Example usage\n",
    "print(list_of_rgb_colors(5))\n",
    "\n"
   ]
  },
  {
   "cell_type": "code",
   "execution_count": null,
   "metadata": {},
   "outputs": [],
   "source": [
    "# Write a function generate_colors which can generate any number of hexa or rgb colors.\n",
    "\n",
    "import random\n",
    "\n",
    "def generate_colors(n, color_type=\"hexa\"):\n",
    "  \"\"\"\n",
    "  This function generates a list of n random colors.\n",
    "\n",
    "  Args:\n",
    "    n: The number of colors to generate.\n",
    "    color_type: The type of color to generate, either \"hexa\" or \"rgb\".\n",
    "\n",
    "  Returns:\n",
    "    A list of n colors.\n",
    "  \"\"\"\n",
    "\n",
    "  colors = []\n",
    "  for _ in range(n):\n",
    "    if color_type == \"hexa\":\n",
    "      color = \"#\"\n",
    "      for _ in range(6):\n",
    "        color += random.choice(\"0123456789abcdef\")\n",
    "      colors.append(color)\n",
    "    elif color_type == \"rgb\":\n",
    "      colors.append((random.randint(0, 255), random.randint(0, 255), random.randint(0, 255)))\n",
    "    else:\n",
    "      raise ValueError(\"Invalid color type. Please choose either 'hexa' or 'rgb'.\")\n",
    "  return colors\n",
    "\n",
    "# Example usage\n",
    "print(generate_colors(5, \"hexa\"))\n",
    "print(generate_colors(5, \"rgb\"))\n"
   ]
  },
  {
   "cell_type": "markdown",
   "metadata": {},
   "source": [
    "#### Exercises: Level 3"
   ]
  },
  {
   "cell_type": "code",
   "execution_count": null,
   "metadata": {},
   "outputs": [],
   "source": [
    "# Call your function shuffle_list, it takes a list as a parameter and it returns a shuffled list\n",
    "def shuffle_list(list):\n",
    "    random.shuffle(list)\n",
    "    return list\n",
    "print(shuffle_list([1,2,3,4,5]))"
   ]
  },
  {
   "cell_type": "code",
   "execution_count": null,
   "metadata": {},
   "outputs": [],
   "source": [
    "# Write a function which returns an array of seven random numbers in a range of 0-9. All the numbers must be unique.\n",
    "def unique_random_nums():\n",
    "    return random.sample([0,1,2,3,4,5,6,7,8,9],k=7)\n",
    "print(unique_random_nums())"
   ]
  }
 ],
 "metadata": {
  "kernelspec": {
   "display_name": ".venv",
   "language": "python",
   "name": "python3"
  },
  "language_info": {
   "codemirror_mode": {
    "name": "ipython",
    "version": 3
   },
   "file_extension": ".py",
   "mimetype": "text/x-python",
   "name": "python",
   "nbconvert_exporter": "python",
   "pygments_lexer": "ipython3",
   "version": "3.12.0"
  }
 },
 "nbformat": 4,
 "nbformat_minor": 2
}
